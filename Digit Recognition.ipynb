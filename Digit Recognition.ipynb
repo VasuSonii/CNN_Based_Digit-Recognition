{
 "cells": [
  {
   "cell_type": "code",
   "execution_count": 14,
   "id": "97c76a1c",
   "metadata": {},
   "outputs": [],
   "source": [
    "import numpy as np\n",
    "import pandas as pd\n",
    "import tensorflow as tf\n",
    "import matplotlib.pyplot as plt\n",
    "from tensorflow.keras.models import Sequential\n",
    "from tensorflow.keras.layers import Dense\n",
    "from tensorflow.keras.activations import linear, relu, sigmoid\n",
    "from sklearn.model_selection import train_test_split\n",
    "from tensorflow.keras import layers\n",
    "%matplotlib inline"
   ]
  },
  {
   "cell_type": "code",
   "execution_count": 15,
   "id": "c0f614c9",
   "metadata": {},
   "outputs": [],
   "source": [
    "train_set = pd.read_csv('train.csv')\n",
    "test_set = pd.read_csv('test.csv')\n",
    "y = train_set['label']\n",
    "del train_set['label']\n",
    "train_set = train_set.to_numpy()\n",
    "test_set =test_set.to_numpy()\n",
    "train_set = train_set/255\n",
    "test_set = test_set/255\n",
    "train_set = train_set.reshape(42000,28,28,1)\n",
    "test_set = test_set.reshape(28000,28,28,1)\n"
   ]
  },
  {
   "cell_type": "code",
   "execution_count": 25,
   "id": "ec45cb5f",
   "metadata": {},
   "outputs": [],
   "source": [
    "X_train, X_test, y_train, y_test = train_test_split(train_set, y, test_size=0.33, random_state=42)\n"
   ]
  },
  {
   "cell_type": "code",
   "execution_count": 33,
   "id": "8d573100",
   "metadata": {},
   "outputs": [],
   "source": [
    "model = Sequential(\n",
    "    [               \n",
    "        ### START CODE HERE ### \n",
    "        tf.keras.layers.Conv2D(16, (3,3), activation='relu', input_shape=(28, 28, 1)),\n",
    "    tf.keras.layers.MaxPooling2D(2, 2),\n",
    "        tf.keras.layers.Conv2D(32, (3,3), activation='relu', ),\n",
    "    tf.keras.layers.MaxPooling2D(2, 2),\n",
    "        tf.keras.layers.Conv2D(64, (3,3), activation='relu', ),\n",
    "    tf.keras.layers.MaxPooling2D(2, 2),\n",
    "        tf.keras.layers.Flatten(),\n",
    "        Dense(200,activation = 'relu',name = 'layer1'),\n",
    "        Dense(128,activation = 'relu',name = 'layer2'),\n",
    "        Dense(10,activation = 'linear',name = 'layer')\n",
    "        ### END CODE HERE ### \n",
    "    ], name = \"my_model\" \n",
    ")\n"
   ]
  },
  {
   "cell_type": "code",
   "execution_count": 34,
   "id": "f9146f47",
   "metadata": {},
   "outputs": [
    {
     "name": "stdout",
     "output_type": "stream",
     "text": [
      "Model: \"my_model\"\n",
      "_________________________________________________________________\n",
      " Layer (type)                Output Shape              Param #   \n",
      "=================================================================\n",
      " conv2d_3 (Conv2D)           (None, 26, 26, 16)        160       \n",
      "                                                                 \n",
      " max_pooling2d_3 (MaxPooling  (None, 13, 13, 16)       0         \n",
      " 2D)                                                             \n",
      "                                                                 \n",
      " conv2d_4 (Conv2D)           (None, 11, 11, 32)        4640      \n",
      "                                                                 \n",
      " max_pooling2d_4 (MaxPooling  (None, 5, 5, 32)         0         \n",
      " 2D)                                                             \n",
      "                                                                 \n",
      " conv2d_5 (Conv2D)           (None, 3, 3, 64)          18496     \n",
      "                                                                 \n",
      " max_pooling2d_5 (MaxPooling  (None, 1, 1, 64)         0         \n",
      " 2D)                                                             \n",
      "                                                                 \n",
      " flatten_1 (Flatten)         (None, 64)                0         \n",
      "                                                                 \n",
      " layer1 (Dense)              (None, 200)               13000     \n",
      "                                                                 \n",
      " layer2 (Dense)              (None, 128)               25728     \n",
      "                                                                 \n",
      " layer (Dense)               (None, 10)                1290      \n",
      "                                                                 \n",
      "=================================================================\n",
      "Total params: 63,314\n",
      "Trainable params: 63,314\n",
      "Non-trainable params: 0\n",
      "_________________________________________________________________\n"
     ]
    }
   ],
   "source": [
    "model.summary()"
   ]
  },
  {
   "cell_type": "code",
   "execution_count": 35,
   "id": "0df9f442",
   "metadata": {},
   "outputs": [
    {
     "name": "stdout",
     "output_type": "stream",
     "text": [
      "Epoch 1/20\n",
      "880/880 [==============================] - 22s 22ms/step - loss: 0.3634 - accuracy: 0.8803\n",
      "Epoch 2/20\n",
      "880/880 [==============================] - 19s 22ms/step - loss: 0.1204 - accuracy: 0.9624\n",
      "Epoch 3/20\n",
      "880/880 [==============================] - 19s 22ms/step - loss: 0.0869 - accuracy: 0.9725\n",
      "Epoch 4/20\n",
      "880/880 [==============================] - 19s 22ms/step - loss: 0.0696 - accuracy: 0.9791\n",
      "Epoch 5/20\n",
      "880/880 [==============================] - 19s 22ms/step - loss: 0.0569 - accuracy: 0.9819\n",
      "Epoch 6/20\n",
      "880/880 [==============================] - 19s 22ms/step - loss: 0.0510 - accuracy: 0.9834\n",
      "Epoch 7/20\n",
      "880/880 [==============================] - 19s 22ms/step - loss: 0.0389 - accuracy: 0.9873\n",
      "Epoch 8/20\n",
      "880/880 [==============================] - 19s 22ms/step - loss: 0.0375 - accuracy: 0.9882\n",
      "Epoch 9/20\n",
      "880/880 [==============================] - 19s 22ms/step - loss: 0.0310 - accuracy: 0.9902\n",
      "Epoch 10/20\n",
      "880/880 [==============================] - 19s 22ms/step - loss: 0.0294 - accuracy: 0.9903\n",
      "Epoch 11/20\n",
      "880/880 [==============================] - 19s 22ms/step - loss: 0.0228 - accuracy: 0.9926\n",
      "Epoch 12/20\n",
      "880/880 [==============================] - 19s 22ms/step - loss: 0.0253 - accuracy: 0.9914\n",
      "Epoch 13/20\n",
      "880/880 [==============================] - 19s 22ms/step - loss: 0.0200 - accuracy: 0.9935\n",
      "Epoch 14/20\n",
      "880/880 [==============================] - 19s 22ms/step - loss: 0.0191 - accuracy: 0.9932\n",
      "Epoch 15/20\n",
      "880/880 [==============================] - 19s 21ms/step - loss: 0.0138 - accuracy: 0.9958\n",
      "Epoch 16/20\n",
      "880/880 [==============================] - 19s 22ms/step - loss: 0.0162 - accuracy: 0.9948\n",
      "Epoch 17/20\n",
      "880/880 [==============================] - 19s 21ms/step - loss: 0.0166 - accuracy: 0.9941\n",
      "Epoch 18/20\n",
      "880/880 [==============================] - 19s 22ms/step - loss: 0.0132 - accuracy: 0.9958\n",
      "Epoch 19/20\n",
      "880/880 [==============================] - 19s 22ms/step - loss: 0.0133 - accuracy: 0.9957\n",
      "Epoch 20/20\n",
      "880/880 [==============================] - 19s 22ms/step - loss: 0.0144 - accuracy: 0.9957\n"
     ]
    }
   ],
   "source": [
    "model.compile(\n",
    "    loss=tf.keras.losses.SparseCategoricalCrossentropy(from_logits=True),\n",
    "    optimizer=tf.keras.optimizers.Adam(learning_rate=0.001),\n",
    "    metrics=['accuracy']\n",
    ")\n",
    "\n",
    "history = model.fit(\n",
    "    X_train,y_train,\n",
    "    epochs=20\n",
    ")"
   ]
  },
  {
   "cell_type": "code",
   "execution_count": 36,
   "id": "f54b2e26",
   "metadata": {},
   "outputs": [
    {
     "name": "stdout",
     "output_type": "stream",
     "text": [
      "434/434 - 4s - loss: 0.0925 - accuracy: 0.9804 - 4s/epoch - 10ms/step\n",
      "\n",
      "Test accuracy: 0.9803751707077026\n"
     ]
    }
   ],
   "source": [
    "test_loss, test_acc = model.evaluate(X_test,  y_test, verbose=2)\n",
    "print('\\nTest accuracy:', test_acc)"
   ]
  },
  {
   "cell_type": "code",
   "execution_count": 37,
   "id": "3eeca099",
   "metadata": {},
   "outputs": [
    {
     "name": "stdout",
     "output_type": "stream",
     "text": [
      "875/875 [==============================] - 8s 9ms/step\n"
     ]
    }
   ],
   "source": [
    "y_predict = model.predict(test_set)\n"
   ]
  },
  {
   "cell_type": "code",
   "execution_count": 38,
   "id": "991e5a98",
   "metadata": {},
   "outputs": [
    {
     "data": {
      "text/plain": [
       "array([2., 0., 9., ..., 3., 9., 2.])"
      ]
     },
     "execution_count": 38,
     "metadata": {},
     "output_type": "execute_result"
    }
   ],
   "source": [
    "prediction_p = tf.nn.softmax(y_predict)\n",
    "yhat = np.zeros(28000)\n",
    "for i in range(28000):\n",
    "    yhat[i] = np.argmax(prediction_p[i])\n",
    "yhat"
   ]
  },
  {
   "cell_type": "code",
   "execution_count": 39,
   "id": "019f2806",
   "metadata": {},
   "outputs": [],
   "source": [
    "ID = np.arange(1,28001)\n",
    "ID = pd.DataFrame(ID,columns= ['ImageId'])\n",
    "output = pd.concat([ID,pd.DataFrame(yhat,columns = ['Label'],dtype = int)],axis = 1)\n",
    "output.to_csv('submission-digit.csv', index=False)"
   ]
  },
  {
   "cell_type": "code",
   "execution_count": null,
   "id": "6f2a1c03",
   "metadata": {},
   "outputs": [],
   "source": [
    "print(pd.DataFrame(yhat,columns = ['Label'],dtype = int))"
   ]
  },
  {
   "cell_type": "code",
   "execution_count": 78,
   "id": "75699825",
   "metadata": {},
   "outputs": [],
   "source": [
    "def randomTest():\n",
    "  fig, ax = plt.subplots(5, 5, figsize=(15, 15))\n",
    "  for index, axi in enumerate(ax.flat):\n",
    "    axi.imshow(test_images[index].reshape(28, 28), cmap='gray', interpolation='nearest')\n",
    "    axi.set(xticks=[], yticks=[],\n",
    "           xlabel=str(yhat[index]))\n",
    "plt.show()"
   ]
  },
  {
   "cell_type": "code",
   "execution_count": 79,
   "id": "704a1b10",
   "metadata": {},
   "outputs": [
    {
     "data": {
      "image/png": "[encoded data removed]",
      "text/plain": [
       "<Figure size 1080x1080 with 25 Axes>"
      ]
     },
     "metadata": {},
     "output_type": "display_data"
    }
   ],
   "source": [
    "randomTest()"
   ]
  },
  {
   "cell_type": "code",
   "execution_count": null,
   "id": "0bdd8a14",
   "metadata": {},
   "outputs": [],
   "source": []
  }
 ],
 "metadata": {
  "kernelspec": {
   "display_name": "Python 3 (ipykernel)",
   "language": "python",
   "name": "python3"
  },
  "language_info": {
   "codemirror_mode": {
    "name": "ipython",
    "version": 3
   },
   "file_extension": ".py",
   "mimetype": "text/x-python",
   "name": "python",
   "nbconvert_exporter": "python",
   "pygments_lexer": "ipython3",
   "version": "3.10.6"
  }
 },
 "nbformat": 4,
 "nbformat_minor": 5
}
